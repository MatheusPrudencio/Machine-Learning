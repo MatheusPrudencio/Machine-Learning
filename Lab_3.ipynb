{
 "cells": [
  {
   "cell_type": "markdown",
   "metadata": {},
   "source": [
    "# Sistemas Inteligentes\n",
    "\n",
    "## Laboratório 3 - Redução de Dimensionalidade e Regressão\n",
    "\n",
    "Algoritmos de Redução de dimensionalidade:\n",
    "- Principal Component Analysis (PCA)\n",
    "- Independent Component Analysis (ICA)\n",
    "- Isometric Mapping (Isomap)\n",
    "- T-Distributed Stochastic Neighbor Embedding (TSNE)\n",
    "\n",
    "Modelos de regressão linear:\n",
    "- Least Squares\n",
    "- Ridge\n",
    "- Lasso\n",
    "- Lasso Least-angle regression (LARS)\n",
    "- RANdom SAmple Consensus (RANSAC)\n",
    "- Theil-Sen"
   ]
  },
  {
   "cell_type": "markdown",
   "metadata": {},
   "source": [
    "### Identificação do Aluno"
   ]
  },
  {
   "cell_type": "markdown",
   "metadata": {},
   "source": [
    "#### Nome Completo"
   ]
  },
  {
   "cell_type": "markdown",
   "metadata": {},
   "source": [
    "Matheus Prudencio dos Santos"
   ]
  },
  {
   "cell_type": "markdown",
   "metadata": {},
   "source": [
    "#### RA"
   ]
  },
  {
   "cell_type": "markdown",
   "metadata": {},
   "source": [
    "11114014\n"
   ]
  },
  {
   "cell_type": "markdown",
   "metadata": {},
   "source": [
    "## Importação e preparação dos dados"
   ]
  },
  {
   "cell_type": "markdown",
   "metadata": {},
   "source": [
    "Importe o dataset de pacientes diabéticos da biblioteca Scikit (load_diabetes) e separe os dados entre atributos (X) e saídas (y)."
   ]
  },
  {
   "cell_type": "code",
   "execution_count": 1,
   "metadata": {},
   "outputs": [],
   "source": [
    "from sklearn.datasets import load_diabetes\n",
    "import numpy as np\n",
    "\n",
    "dataset = load_diabetes()\n",
    "\n",
    "x = dataset.data\n",
    "\n",
    "y = dataset.target"
   ]
  },
  {
   "cell_type": "markdown",
   "metadata": {},
   "source": [
    "Mostre os formatos da variável de atributos e da variável de saídas."
   ]
  },
  {
   "cell_type": "code",
   "execution_count": 2,
   "metadata": {},
   "outputs": [
    {
     "data": {
      "text/plain": [
       "(442, 10)"
      ]
     },
     "execution_count": 2,
     "metadata": {},
     "output_type": "execute_result"
    }
   ],
   "source": [
    "x.shape"
   ]
  },
  {
   "cell_type": "code",
   "execution_count": 3,
   "metadata": {},
   "outputs": [
    {
     "data": {
      "text/plain": [
       "(442,)"
      ]
     },
     "execution_count": 3,
     "metadata": {},
     "output_type": "execute_result"
    }
   ],
   "source": [
    "y.shape"
   ]
  },
  {
   "cell_type": "markdown",
   "metadata": {},
   "source": [
    "## Redução de Dimensionalidade"
   ]
  },
  {
   "cell_type": "markdown",
   "metadata": {},
   "source": [
    "Usando pandas para facilitar a analise "
   ]
  },
  {
   "cell_type": "markdown",
   "metadata": {},
   "source": [
    "Importe e aplique as funções de redução de dimensionalidade (PCA, FastICA, Isomap e TSNE) para reduzir a dimensionalidade a apenas uma feature."
   ]
  },
  {
   "cell_type": "code",
   "execution_count": 4,
   "metadata": {},
   "outputs": [],
   "source": [
    "from sklearn.decomposition import PCA, FastICA\n",
    "from sklearn.manifold import TSNE, Isomap\n",
    "\n",
    "#Como os valores estão próximos não irei normalizar\n",
    "\n",
    "pca = PCA(n_components=1)\n",
    "pca = pca.fit_transform(x)\n",
    "\n",
    "fICA = FastICA(n_components=1, random_state=0)\n",
    "fICA = fICA.fit_transform(x)\n",
    "\n",
    "isomap = Isomap(n_components=1)\n",
    "isomap = isomap.fit_transform(x)\n",
    "\n",
    "tsne = TSNE(n_components=1).fit_transform(x)"
   ]
  },
  {
   "cell_type": "markdown",
   "metadata": {},
   "source": [
    "Mostre o formato da nova variável de atributos após a redução de dimensionalidade para cada algoritmo."
   ]
  },
  {
   "cell_type": "code",
   "execution_count": 5,
   "metadata": {},
   "outputs": [
    {
     "data": {
      "text/plain": [
       "(442, 1)"
      ]
     },
     "execution_count": 5,
     "metadata": {},
     "output_type": "execute_result"
    }
   ],
   "source": [
    "pca.shape"
   ]
  },
  {
   "cell_type": "code",
   "execution_count": 6,
   "metadata": {},
   "outputs": [
    {
     "data": {
      "text/plain": [
       "(442, 1)"
      ]
     },
     "execution_count": 6,
     "metadata": {},
     "output_type": "execute_result"
    }
   ],
   "source": [
    "fICA.shape"
   ]
  },
  {
   "cell_type": "code",
   "execution_count": 7,
   "metadata": {},
   "outputs": [
    {
     "data": {
      "text/plain": [
       "(442, 1)"
      ]
     },
     "execution_count": 7,
     "metadata": {},
     "output_type": "execute_result"
    }
   ],
   "source": [
    "isomap.shape"
   ]
  },
  {
   "cell_type": "code",
   "execution_count": 8,
   "metadata": {},
   "outputs": [
    {
     "data": {
      "text/plain": [
       "(442, 1)"
      ]
     },
     "execution_count": 8,
     "metadata": {},
     "output_type": "execute_result"
    }
   ],
   "source": [
    "tsne.shape"
   ]
  },
  {
   "cell_type": "markdown",
   "metadata": {},
   "source": [
    "### Caso mais simples"
   ]
  },
  {
   "cell_type": "markdown",
   "metadata": {},
   "source": [
    "Faça a separação dos dados para treinamento e teste. Reserve 20% dos dados para teste."
   ]
  },
  {
   "cell_type": "code",
   "execution_count": 9,
   "metadata": {},
   "outputs": [
    {
     "name": "stdout",
     "output_type": "stream",
     "text": [
      "          0         1         2         3         4         5         6  \\\n",
      "0  0.038076  0.050680  0.061696  0.021872 -0.044223 -0.034821 -0.043401   \n",
      "1 -0.001882 -0.044642 -0.051474 -0.026328 -0.008449 -0.019163  0.074412   \n",
      "2  0.085299  0.050680  0.044451 -0.005671 -0.045599 -0.034194 -0.032356   \n",
      "3 -0.089063 -0.044642 -0.011595 -0.036656  0.012191  0.024991 -0.036038   \n",
      "4  0.005383 -0.044642 -0.036385  0.021872  0.003935  0.015596  0.008142   \n",
      "\n",
      "          7         8         9  Saida  \n",
      "0 -0.002592  0.019908 -0.017646  151.0  \n",
      "1 -0.039493 -0.068330 -0.092204   75.0  \n",
      "2 -0.002592  0.002864 -0.025930  141.0  \n",
      "3  0.034309  0.022692 -0.009362  206.0  \n",
      "4 -0.002592 -0.031991 -0.046641  135.0  \n"
     ]
    },
    {
     "data": {
      "text/html": [
       "<div>\n",
       "<style scoped>\n",
       "    .dataframe tbody tr th:only-of-type {\n",
       "        vertical-align: middle;\n",
       "    }\n",
       "\n",
       "    .dataframe tbody tr th {\n",
       "        vertical-align: top;\n",
       "    }\n",
       "\n",
       "    .dataframe thead th {\n",
       "        text-align: right;\n",
       "    }\n",
       "</style>\n",
       "<table border=\"1\" class=\"dataframe\">\n",
       "  <thead>\n",
       "    <tr style=\"text-align: right;\">\n",
       "      <th></th>\n",
       "      <th>0</th>\n",
       "      <th>1</th>\n",
       "      <th>2</th>\n",
       "      <th>3</th>\n",
       "      <th>4</th>\n",
       "      <th>5</th>\n",
       "      <th>6</th>\n",
       "      <th>7</th>\n",
       "      <th>8</th>\n",
       "      <th>9</th>\n",
       "      <th>Saida</th>\n",
       "    </tr>\n",
       "  </thead>\n",
       "  <tbody>\n",
       "    <tr>\n",
       "      <th>0</th>\n",
       "      <td>1.000000</td>\n",
       "      <td>0.173737</td>\n",
       "      <td>0.185085</td>\n",
       "      <td>0.335427</td>\n",
       "      <td>0.260061</td>\n",
       "      <td>0.219243</td>\n",
       "      <td>-0.075181</td>\n",
       "      <td>0.203841</td>\n",
       "      <td>0.270777</td>\n",
       "      <td>0.301731</td>\n",
       "      <td>0.187889</td>\n",
       "    </tr>\n",
       "    <tr>\n",
       "      <th>1</th>\n",
       "      <td>0.173737</td>\n",
       "      <td>1.000000</td>\n",
       "      <td>0.088161</td>\n",
       "      <td>0.241013</td>\n",
       "      <td>0.035277</td>\n",
       "      <td>0.142637</td>\n",
       "      <td>-0.379090</td>\n",
       "      <td>0.332115</td>\n",
       "      <td>0.149918</td>\n",
       "      <td>0.208133</td>\n",
       "      <td>0.043062</td>\n",
       "    </tr>\n",
       "    <tr>\n",
       "      <th>2</th>\n",
       "      <td>0.185085</td>\n",
       "      <td>0.088161</td>\n",
       "      <td>1.000000</td>\n",
       "      <td>0.395415</td>\n",
       "      <td>0.249777</td>\n",
       "      <td>0.261170</td>\n",
       "      <td>-0.366811</td>\n",
       "      <td>0.413807</td>\n",
       "      <td>0.446159</td>\n",
       "      <td>0.388680</td>\n",
       "      <td>0.586450</td>\n",
       "    </tr>\n",
       "    <tr>\n",
       "      <th>3</th>\n",
       "      <td>0.335427</td>\n",
       "      <td>0.241013</td>\n",
       "      <td>0.395415</td>\n",
       "      <td>1.000000</td>\n",
       "      <td>0.242470</td>\n",
       "      <td>0.185558</td>\n",
       "      <td>-0.178761</td>\n",
       "      <td>0.257653</td>\n",
       "      <td>0.393478</td>\n",
       "      <td>0.390429</td>\n",
       "      <td>0.441484</td>\n",
       "    </tr>\n",
       "    <tr>\n",
       "      <th>4</th>\n",
       "      <td>0.260061</td>\n",
       "      <td>0.035277</td>\n",
       "      <td>0.249777</td>\n",
       "      <td>0.242470</td>\n",
       "      <td>1.000000</td>\n",
       "      <td>0.896663</td>\n",
       "      <td>0.051519</td>\n",
       "      <td>0.542207</td>\n",
       "      <td>0.515501</td>\n",
       "      <td>0.325717</td>\n",
       "      <td>0.212022</td>\n",
       "    </tr>\n",
       "    <tr>\n",
       "      <th>5</th>\n",
       "      <td>0.219243</td>\n",
       "      <td>0.142637</td>\n",
       "      <td>0.261170</td>\n",
       "      <td>0.185558</td>\n",
       "      <td>0.896663</td>\n",
       "      <td>1.000000</td>\n",
       "      <td>-0.196455</td>\n",
       "      <td>0.659817</td>\n",
       "      <td>0.318353</td>\n",
       "      <td>0.290600</td>\n",
       "      <td>0.174054</td>\n",
       "    </tr>\n",
       "    <tr>\n",
       "      <th>6</th>\n",
       "      <td>-0.075181</td>\n",
       "      <td>-0.379090</td>\n",
       "      <td>-0.366811</td>\n",
       "      <td>-0.178761</td>\n",
       "      <td>0.051519</td>\n",
       "      <td>-0.196455</td>\n",
       "      <td>1.000000</td>\n",
       "      <td>-0.738493</td>\n",
       "      <td>-0.398577</td>\n",
       "      <td>-0.273697</td>\n",
       "      <td>-0.394789</td>\n",
       "    </tr>\n",
       "    <tr>\n",
       "      <th>7</th>\n",
       "      <td>0.203841</td>\n",
       "      <td>0.332115</td>\n",
       "      <td>0.413807</td>\n",
       "      <td>0.257653</td>\n",
       "      <td>0.542207</td>\n",
       "      <td>0.659817</td>\n",
       "      <td>-0.738493</td>\n",
       "      <td>1.000000</td>\n",
       "      <td>0.617857</td>\n",
       "      <td>0.417212</td>\n",
       "      <td>0.430453</td>\n",
       "    </tr>\n",
       "    <tr>\n",
       "      <th>8</th>\n",
       "      <td>0.270777</td>\n",
       "      <td>0.149918</td>\n",
       "      <td>0.446159</td>\n",
       "      <td>0.393478</td>\n",
       "      <td>0.515501</td>\n",
       "      <td>0.318353</td>\n",
       "      <td>-0.398577</td>\n",
       "      <td>0.617857</td>\n",
       "      <td>1.000000</td>\n",
       "      <td>0.464670</td>\n",
       "      <td>0.565883</td>\n",
       "    </tr>\n",
       "    <tr>\n",
       "      <th>9</th>\n",
       "      <td>0.301731</td>\n",
       "      <td>0.208133</td>\n",
       "      <td>0.388680</td>\n",
       "      <td>0.390429</td>\n",
       "      <td>0.325717</td>\n",
       "      <td>0.290600</td>\n",
       "      <td>-0.273697</td>\n",
       "      <td>0.417212</td>\n",
       "      <td>0.464670</td>\n",
       "      <td>1.000000</td>\n",
       "      <td>0.382483</td>\n",
       "    </tr>\n",
       "    <tr>\n",
       "      <th>Saida</th>\n",
       "      <td>0.187889</td>\n",
       "      <td>0.043062</td>\n",
       "      <td>0.586450</td>\n",
       "      <td>0.441484</td>\n",
       "      <td>0.212022</td>\n",
       "      <td>0.174054</td>\n",
       "      <td>-0.394789</td>\n",
       "      <td>0.430453</td>\n",
       "      <td>0.565883</td>\n",
       "      <td>0.382483</td>\n",
       "      <td>1.000000</td>\n",
       "    </tr>\n",
       "  </tbody>\n",
       "</table>\n",
       "</div>"
      ],
      "text/plain": [
       "              0         1         2         3         4         5         6  \\\n",
       "0      1.000000  0.173737  0.185085  0.335427  0.260061  0.219243 -0.075181   \n",
       "1      0.173737  1.000000  0.088161  0.241013  0.035277  0.142637 -0.379090   \n",
       "2      0.185085  0.088161  1.000000  0.395415  0.249777  0.261170 -0.366811   \n",
       "3      0.335427  0.241013  0.395415  1.000000  0.242470  0.185558 -0.178761   \n",
       "4      0.260061  0.035277  0.249777  0.242470  1.000000  0.896663  0.051519   \n",
       "5      0.219243  0.142637  0.261170  0.185558  0.896663  1.000000 -0.196455   \n",
       "6     -0.075181 -0.379090 -0.366811 -0.178761  0.051519 -0.196455  1.000000   \n",
       "7      0.203841  0.332115  0.413807  0.257653  0.542207  0.659817 -0.738493   \n",
       "8      0.270777  0.149918  0.446159  0.393478  0.515501  0.318353 -0.398577   \n",
       "9      0.301731  0.208133  0.388680  0.390429  0.325717  0.290600 -0.273697   \n",
       "Saida  0.187889  0.043062  0.586450  0.441484  0.212022  0.174054 -0.394789   \n",
       "\n",
       "              7         8         9     Saida  \n",
       "0      0.203841  0.270777  0.301731  0.187889  \n",
       "1      0.332115  0.149918  0.208133  0.043062  \n",
       "2      0.413807  0.446159  0.388680  0.586450  \n",
       "3      0.257653  0.393478  0.390429  0.441484  \n",
       "4      0.542207  0.515501  0.325717  0.212022  \n",
       "5      0.659817  0.318353  0.290600  0.174054  \n",
       "6     -0.738493 -0.398577 -0.273697 -0.394789  \n",
       "7      1.000000  0.617857  0.417212  0.430453  \n",
       "8      0.617857  1.000000  0.464670  0.565883  \n",
       "9      0.417212  0.464670  1.000000  0.382483  \n",
       "Saida  0.430453  0.565883  0.382483  1.000000  "
      ]
     },
     "execution_count": 9,
     "metadata": {},
     "output_type": "execute_result"
    }
   ],
   "source": [
    "# Para a regressão simples funcionar irei precisar de apenas 1 feature das 10,\n",
    "# então irei usar a correlação do pandas para encontrar a feature com maior correlação\n",
    "\n",
    "import pandas as pd\n",
    "\n",
    "df = pd.DataFrame(x)\n",
    "df['Saida'] = y\n",
    "\n",
    "print(df.head())\n",
    "\n",
    "df.corr()"
   ]
  },
  {
   "cell_type": "code",
   "execution_count": 10,
   "metadata": {},
   "outputs": [
    {
     "data": {
      "text/plain": [
       "(442, 1)"
      ]
     },
     "execution_count": 10,
     "metadata": {},
     "output_type": "execute_result"
    }
   ],
   "source": [
    "# Como a 3 feature tem a maior correlação ela sera usada no treinamento\n",
    "\n",
    "x2 = x[:,2]\n",
    "x2 =x2.reshape(-1,1)\n",
    "\n",
    "x2.shape"
   ]
  },
  {
   "cell_type": "code",
   "execution_count": 11,
   "metadata": {},
   "outputs": [],
   "source": [
    "from sklearn.model_selection import train_test_split\n",
    "\n",
    "x2_treinamento, x2_teste, y_treinamento, y_teste = train_test_split(x2,y,test_size =0.20)"
   ]
  },
  {
   "cell_type": "markdown",
   "metadata": {},
   "source": [
    "Importe o regressor linear e utilize-o para gerar um modelo, então faça uma regressão com os dados de teste."
   ]
  },
  {
   "cell_type": "code",
   "execution_count": 12,
   "metadata": {},
   "outputs": [
    {
     "name": "stdout",
     "output_type": "stream",
     "text": [
      "[206.58533071 166.17578051 203.62853436 133.6510206  135.62221817\n",
      " 242.06688698 136.60781696 120.83823639 144.49260724 116.89584125]\n",
      "[268.  96. 303.  47.  77. 243.  80. 120. 100.  93.]\n"
     ]
    }
   ],
   "source": [
    "from sklearn.linear_model import LinearRegression\n",
    "regressor = LinearRegression()\n",
    "regressor.fit(x2_treinamento, y_treinamento)\n",
    "\n",
    "previsao = regressor.predict(x2_teste)\n",
    "\n",
    "print(previsao[:10])\n",
    "print(y_teste[:10])"
   ]
  },
  {
   "cell_type": "markdown",
   "metadata": {},
   "source": [
    "Importe as funções de erro quadrático médio (MSE) e o coeficiente de determinação (R²), então imprima o MSE e o R²."
   ]
  },
  {
   "cell_type": "code",
   "execution_count": 13,
   "metadata": {},
   "outputs": [
    {
     "name": "stdout",
     "output_type": "stream",
     "text": [
      "3675.5631748351957\n",
      "0.3264585295696615\n",
      "0.4032077340696406\n"
     ]
    }
   ],
   "source": [
    "from sklearn.metrics import mean_squared_error, r2_score\n",
    "\n",
    "mse=mean_squared_error(y_teste, previsao)\n",
    "print(mse)\n",
    "\n",
    "r_square = regressor.score(x2_treinamento, y_treinamento)\n",
    "print(r_square)\n",
    "\n",
    "r_square = r2_score(y_teste, previsao)\n",
    "print(r_square)\n",
    "\n",
    "#duvida: ambos são R^2 mas os resultados são diferentes"
   ]
  },
  {
   "cell_type": "markdown",
   "metadata": {},
   "source": [
    "Então exiba o gráfico de dispersão dos dados de teste e a curva de regressão gerada."
   ]
  },
  {
   "cell_type": "code",
   "execution_count": 14,
   "metadata": {},
   "outputs": [
    {
     "data": {
      "image/png": "[encoded data removed]",
      "text/plain": [
       "<Figure size 432x288 with 1 Axes>"
      ]
     },
     "metadata": {
      "needs_background": "light"
     },
     "output_type": "display_data"
    }
   ],
   "source": [
    "%matplotlib inline\n",
    "\n",
    "import matplotlib.pyplot as plt\n",
    "\n",
    "plt.scatter(x2_teste, y_teste)\n",
    "plt.plot(x2_teste, regressor.predict(x2_teste), color = 'red')\n",
    "plt.xlabel('Terceira Feature')\n",
    "plt.ylabel('Saida Esperada')\n",
    "plt.show()"
   ]
  },
  {
   "cell_type": "markdown",
   "metadata": {},
   "source": [
    "### Comparando Métodos de Redução de Dimensionalidade"
   ]
  },
  {
   "cell_type": "markdown",
   "metadata": {},
   "source": [
    "Agora, a fim de comparar com outras técnicas, crie um método iterativo que realize as etapas de separação dos dados entre treinamento e teste, gere um modelo de regressão linear, faça a predição com base nos dados de testes e calcule o erro quadrático médio e o coeficiente de determinação para cada iteração. Então, calcule os valores mínimo, médio, máximo e desvio padrão para cada uma dessas duas métricas. Por fim, plote os histogramas (com 100 bins) das duas métricas. Use 10000 (dez mil) iterações."
   ]
  },
  {
   "cell_type": "code",
   "execution_count": 15,
   "metadata": {},
   "outputs": [],
   "source": [
    "# celula dedicada a criar funções que serão reaproveitadas nos próximos exercicios\n",
    "\n",
    "# Função Separação\n",
    "def separacao(x,y):\n",
    "    x_treinamento, x_teste, y_treinamento, y_teste = train_test_split(x,y,test_size =0.20)\n",
    "    separado = {'x_treinamento': x_treinamento, 'x_teste':x_teste, \n",
    "                'y_treinamento':y_treinamento, 'y_teste': y_teste}\n",
    "    return separado\n",
    "\n",
    "# Função de treinamento.\n",
    "def treinamento(x_treinamento, y_treinamento):\n",
    "    regressor = LinearRegression()\n",
    "    regressor.fit(x_treinamento, y_treinamento)\n",
    "    return regressor \n",
    "\n",
    "# Função de predição\n",
    "def predicao(x_teste, regressor):\n",
    "    x_teste = np.asarray(x_teste)\n",
    "    x_teste.reshape(-1,1)\n",
    "    predicao = regressor.predict(x_teste)\n",
    "    return predicao\n",
    "\n",
    "# Função com metricas\n",
    "def metricas(y_teste, predicao):\n",
    "    mse=mean_squared_error(y_teste, predicao)\n",
    "    r_square = r2_score(y_teste, predicao) \n",
    "    metricas = { 'mse':mse, 'r2': r_square}\n",
    "    return metricas\n",
    "\n",
    "# Função que adiciona os valores as suas respectivas listas\n",
    "def adiciona_a_lista(lista, valor):\n",
    "    lista.append(valor)\n",
    "    print(lista)\n",
    "    \n",
    "# Função que calcula os valores min, mean, max e des_padrao\n",
    "def valores(lista):\n",
    "    mi = np.min(lista)\n",
    "    ma = np.max(lista)\n",
    "    me = np.mean(lista)\n",
    "    l = np.var(lista)\n",
    "    l = np.sqrt(l)\n",
    "    print('O valor mínimo é {}'.format(mi))\n",
    "    print('O valor máximo é {}'.format(ma))\n",
    "    print('O valor médio é {}'.format(me))\n",
    "    print('O valor do desvio padrão é {}'.format(l))\n",
    "    \n",
    "# Função que junta todas as outras funções em uma só\n",
    "\n",
    "##OBS: Código não funcionou :(\n",
    "\n",
    "def super_func(x,y):\n",
    "    test_split = separacao(x,y)\n",
    "    regressor = treinamento(test_split[0],test_split[2])\n",
    "    predicao = predicao(test_split[1], regressor)\n",
    "    metricas = metricas(test_split[3], predicao)\n",
    "    adiciona_a_lista(l_mse, metricas['mse'])\n",
    "    adiciona_a_lista(l_r, metricas['r2'])\n",
    "    lista=[l_mse,l_r]\n",
    "    return lista\n"
   ]
  },
  {
   "cell_type": "markdown",
   "metadata": {},
   "source": [
    "#### PCA"
   ]
  },
  {
   "cell_type": "code",
   "execution_count": 16,
   "metadata": {},
   "outputs": [],
   "source": [
    "def pca(x):\n",
    "    from sklearn.preprocessing import StandardScaler\n",
    "    scaler = StandardScaler()\n",
    "    x = scaler.fit_transform(x)\n",
    "    pca = PCA(n_components=1)\n",
    "    pca = pca.fit_transform(x)\n",
    "    return pca"
   ]
  },
  {
   "cell_type": "markdown",
   "metadata": {},
   "source": [
    "#### ICA"
   ]
  },
  {
   "cell_type": "code",
   "execution_count": 17,
   "metadata": {},
   "outputs": [],
   "source": [
    "### Escreva seu código aqui ###"
   ]
  },
  {
   "cell_type": "markdown",
   "metadata": {},
   "source": [
    "#### Isomap"
   ]
  },
  {
   "cell_type": "code",
   "execution_count": 18,
   "metadata": {},
   "outputs": [],
   "source": [
    "### Escreva seu código aqui ###"
   ]
  },
  {
   "cell_type": "markdown",
   "metadata": {},
   "source": [
    "#### TSNE"
   ]
  },
  {
   "cell_type": "code",
   "execution_count": 19,
   "metadata": {},
   "outputs": [],
   "source": [
    "### Escreva seu código aqui ###"
   ]
  },
  {
   "cell_type": "markdown",
   "metadata": {},
   "source": [
    "### Comparando modelos de Regressão"
   ]
  },
  {
   "cell_type": "markdown",
   "metadata": {},
   "source": [
    "Exiba o gráfico de dispersão dos dados de teste e a curva de regressão gerada em cada caso."
   ]
  },
  {
   "cell_type": "code",
   "execution_count": 20,
   "metadata": {},
   "outputs": [],
   "source": [
    "# Serão usados os dados do PCA com n=1 para criar o espaço de analise do regressores\n",
    "\n",
    "pca = pca(x)\n",
    "test_split = separacao(pca,y)"
   ]
  },
  {
   "cell_type": "markdown",
   "metadata": {},
   "source": [
    "#### Least Squares"
   ]
  },
  {
   "cell_type": "code",
   "execution_count": 22,
   "metadata": {},
   "outputs": [
    {
     "name": "stdout",
     "output_type": "stream",
     "text": [
      "o mse é 7812.65270560821, o r^2 é -0.2685214453744045\n"
     ]
    },
    {
     "data": {
      "image/png": "[encoded data removed]",
      "text/plain": [
       "<Figure size 432x288 with 1 Axes>"
      ]
     },
     "metadata": {
      "needs_background": "light"
     },
     "output_type": "display_data"
    }
   ],
   "source": [
    "reg = LinearRegression().fit(test_split['x_treinamento'], test_split['y_treinamento'])\n",
    "\n",
    "pred_reg = reg.predict(test_split['x_teste'])\n",
    "mse=mean_squared_error(y_teste,pred_reg)\n",
    "r_square = r2_score(y_teste, pred_reg)\n",
    "\n",
    "print ('o mse é {}, o r^2 é {}'.format(mse, r_square))\n",
    "\n",
    "plt.scatter(test_split['x_teste'], test_split['y_teste'])\n",
    "plt.plot(test_split['x_teste'], pred_reg, color = 'red', label='Least Squares')\n",
    "plt.xlabel('PC1')\n",
    "plt.legend()\n",
    "plt.ylabel('Saida Esperada')\n",
    "plt.show()"
   ]
  },
  {
   "cell_type": "markdown",
   "metadata": {},
   "source": [
    "#### Ridge"
   ]
  },
  {
   "cell_type": "code",
   "execution_count": 23,
   "metadata": {},
   "outputs": [
    {
     "name": "stdout",
     "output_type": "stream",
     "text": [
      "o mse é 7810.327281255732, o r^2 é -0.26814387187000444\n"
     ]
    },
    {
     "data": {
      "image/png": "[encoded data removed]",
      "text/plain": [
       "<Figure size 432x288 with 1 Axes>"
      ]
     },
     "metadata": {
      "needs_background": "light"
     },
     "output_type": "display_data"
    }
   ],
   "source": [
    "from sklearn.linear_model import Ridge\n",
    "\n",
    "clf = Ridge(alpha=1.0)\n",
    "clf.fit(test_split['x_treinamento'], test_split['y_treinamento'])\n",
    "\n",
    "pred_ridge = clf.predict(test_split['x_teste'])\n",
    "mse=mean_squared_error(y_teste,pred_ridge)\n",
    "r_square = r2_score(y_teste, pred_ridge)\n",
    "\n",
    "print ('o mse é {}, o r^2 é {}'.format(mse, r_square))\n",
    "\n",
    "plt.scatter(test_split['x_teste'], test_split['y_teste'])\n",
    "plt.plot(test_split['x_teste'], pred_ridge, color = 'red',label='Ridge')\n",
    "plt.legend()\n",
    "plt.xlabel('PC1')\n",
    "plt.ylabel('Saida Esperada')\n",
    "plt.show()"
   ]
  },
  {
   "cell_type": "markdown",
   "metadata": {},
   "source": [
    "#### Lasso"
   ]
  },
  {
   "cell_type": "code",
   "execution_count": 24,
   "metadata": {},
   "outputs": [
    {
     "name": "stdout",
     "output_type": "stream",
     "text": [
      "o mse é 7808.576576482454, o r^2 é -0.2678596141878695\n"
     ]
    },
    {
     "data": {
      "image/png": "[encoded data removed]",
      "text/plain": [
       "<Figure size 432x288 with 1 Axes>"
      ]
     },
     "metadata": {
      "needs_background": "light"
     },
     "output_type": "display_data"
    }
   ],
   "source": [
    "from sklearn.linear_model import Lasso\n",
    "\n",
    "lasso = Lasso(alpha=0.1)\n",
    "lasso.fit(test_split['x_treinamento'],test_split['y_treinamento'])\n",
    "\n",
    "pred_lasso = lasso.predict(test_split['x_teste'])\n",
    "mse=mean_squared_error(y_teste,pred_lasso)\n",
    "r_square = r2_score(y_teste, pred_lasso)\n",
    "\n",
    "print ('o mse é {}, o r^2 é {}'.format(mse, r_square))\n",
    "\n",
    "plt.scatter(test_split['x_teste'], test_split['y_teste'])\n",
    "plt.plot(test_split['x_teste'], pred_lasso, color = 'red',label='Lasso')\n",
    "plt.legend()\n",
    "plt.xlabel('PC1')\n",
    "plt.ylabel('Saida Esperada')\n",
    "plt.show()"
   ]
  },
  {
   "cell_type": "markdown",
   "metadata": {},
   "source": [
    "#### Lasso LARS"
   ]
  },
  {
   "cell_type": "code",
   "execution_count": 25,
   "metadata": {},
   "outputs": [
    {
     "name": "stdout",
     "output_type": "stream",
     "text": [
      "o mse é 7662.914992778082, o r^2 é -0.2442088966071998\n"
     ]
    },
    {
     "data": {
      "image/png": "[encoded data removed]",
      "text/plain": [
       "<Figure size 432x288 with 1 Axes>"
      ]
     },
     "metadata": {
      "needs_background": "light"
     },
     "output_type": "display_data"
    }
   ],
   "source": [
    "from sklearn.linear_model import LassoLars\n",
    "\n",
    "lasso_lars = LassoLars(alpha=0.1)\n",
    "lasso_lars.fit(test_split['x_treinamento'],test_split['y_treinamento'])\n",
    "\n",
    "pred_lasso_lars = lasso_lars.predict(test_split['x_teste'])\n",
    "mse=mean_squared_error(y_teste,pred_lasso_lars)\n",
    "r_square = r2_score(y_teste, pred_lasso_lars)\n",
    "\n",
    "print ('o mse é {}, o r^2 é {}'.format(mse, r_square))\n",
    "\n",
    "plt.scatter(test_split['x_teste'], test_split['y_teste'])\n",
    "plt.plot(test_split['x_teste'], pred_lasso, color = 'red',label='Lasso Lars')\n",
    "plt.legend()\n",
    "plt.xlabel('PC1')\n",
    "plt.ylabel('Saida Esperada')\n",
    "plt.show()\n"
   ]
  },
  {
   "cell_type": "markdown",
   "metadata": {},
   "source": [
    "#### Bayesian Ridge"
   ]
  },
  {
   "cell_type": "code",
   "execution_count": 26,
   "metadata": {},
   "outputs": [
    {
     "name": "stdout",
     "output_type": "stream",
     "text": [
      "o mse é 7788.089906091619, o r^2 é -0.26453324327208105\n"
     ]
    },
    {
     "data": {
      "image/png": "[encoded data removed]",
      "text/plain": [
       "<Figure size 432x288 with 1 Axes>"
      ]
     },
     "metadata": {
      "needs_background": "light"
     },
     "output_type": "display_data"
    }
   ],
   "source": [
    "from sklearn.linear_model import BayesianRidge\n",
    "bay_ridge = BayesianRidge()\n",
    "bay_ridge.fit(test_split['x_treinamento'],test_split['y_treinamento'])\n",
    "\n",
    "pred_bay_ridge = bay_ridge.predict(test_split['x_teste'])\n",
    "mse=mean_squared_error(y_teste,pred_bay_ridge)\n",
    "r_square = r2_score(y_teste, pred_bay_ridge)\n",
    "\n",
    "print ('o mse é {}, o r^2 é {}'.format(mse, r_square))\n",
    "\n",
    "plt.scatter(test_split['x_teste'], test_split['y_teste'])\n",
    "plt.plot(test_split['x_teste'], pred_bay_ridge, color = 'red',label='Bayesian Ridge')\n",
    "plt.legend()\n",
    "plt.xlabel('PC1')\n",
    "plt.ylabel('Saida Esperada')\n",
    "plt.show()\n"
   ]
  },
  {
   "cell_type": "markdown",
   "metadata": {},
   "source": [
    "#### RANSAC"
   ]
  },
  {
   "cell_type": "code",
   "execution_count": 27,
   "metadata": {},
   "outputs": [
    {
     "name": "stdout",
     "output_type": "stream",
     "text": [
      "o mse é 8125.214531183505, o r^2 é -0.31927134988033723\n"
     ]
    },
    {
     "data": {
      "image/png": "[encoded data removed]",
      "text/plain": [
       "<Figure size 432x288 with 1 Axes>"
      ]
     },
     "metadata": {
      "needs_background": "light"
     },
     "output_type": "display_data"
    }
   ],
   "source": [
    "from sklearn.linear_model import RANSACRegressor\n",
    "ransac = RANSACRegressor()\n",
    "ransac.fit(test_split['x_treinamento'],test_split['y_treinamento'])\n",
    "\n",
    "pred_ransac =ransac.predict(test_split['x_teste'])\n",
    "mse=mean_squared_error(y_teste,pred_ransac)\n",
    "r_square = r2_score(y_teste, pred_ransac)\n",
    "\n",
    "print ('o mse é {}, o r^2 é {}'.format(mse, r_square))\n",
    "\n",
    "plt.scatter(test_split['x_teste'], test_split['y_teste'])\n",
    "plt.plot(test_split['x_teste'], pred_ransac, color = 'red',label='Ransac')\n",
    "plt.legend()\n",
    "plt.xlabel('PC1')\n",
    "plt.ylabel('Saida Esperada')\n",
    "plt.show()\n"
   ]
  },
  {
   "cell_type": "markdown",
   "metadata": {},
   "source": [
    "#### Theil-Sen"
   ]
  },
  {
   "cell_type": "code",
   "execution_count": 28,
   "metadata": {},
   "outputs": [
    {
     "name": "stdout",
     "output_type": "stream",
     "text": [
      "o mse é 8198.968089002836, o r^2 é -0.3312465359396539\n"
     ]
    },
    {
     "data": {
      "image/png": "[encoded data removed]",
      "text/plain": [
       "<Figure size 432x288 with 1 Axes>"
      ]
     },
     "metadata": {
      "needs_background": "light"
     },
     "output_type": "display_data"
    }
   ],
   "source": [
    "from sklearn.linear_model import TheilSenRegressor\n",
    "Theil_Sen = TheilSenRegressor()\n",
    "Theil_Sen.fit(test_split['x_treinamento'],test_split['y_treinamento'])\n",
    "\n",
    "pred_Theil_Sen =Theil_Sen.predict(test_split['x_teste'])\n",
    "mse=mean_squared_error(y_teste,pred_Theil_Sen)\n",
    "r_square = r2_score(y_teste, pred_Theil_Sen)\n",
    "\n",
    "print ('o mse é {}, o r^2 é {}'.format(mse, r_square))\n",
    "\n",
    "plt.scatter(test_split['x_teste'], test_split['y_teste'])\n",
    "plt.plot(test_split['x_teste'], pred_Theil_Sen, color = 'red',label='Theil-Sen')\n",
    "plt.legend()\n",
    "plt.xlabel('PC1')\n",
    "plt.ylabel('Saida Esperada')\n",
    "plt.show()"
   ]
  },
  {
   "cell_type": "markdown",
   "metadata": {},
   "source": [
    "### Gráfico geral comparativo"
   ]
  },
  {
   "cell_type": "markdown",
   "metadata": {},
   "source": [
    "Em uma mesma figura, mostre novamente o gráfico de dispersão dos dados e plote cada um dos modelos gerados utilizando cada técnica deste laboratório. Atente-se a fazer com que o gráfico seja suficientemente autoexplicativo, então utilize diferentes cores, insira uma legenda etc."
   ]
  },
  {
   "cell_type": "code",
   "execution_count": 29,
   "metadata": {},
   "outputs": [
    {
     "data": {
      "image/png": "[encoded data removed]",
      "text/plain": [
       "<Figure size 792x792 with 1 Axes>"
      ]
     },
     "metadata": {
      "needs_background": "light"
     },
     "output_type": "display_data"
    }
   ],
   "source": [
    "plt.figure(figsize =(11,11))\n",
    "\n",
    "plt.scatter(test_split['x_teste'], test_split['y_teste'], color ='black')\n",
    "\n",
    "plt.plot(test_split['x_teste'], pred_Theil_Sen, color = 'red',label='Theil-Sen')\n",
    "plt.plot(test_split['x_teste'], pred_bay_ridge, color = 'blue',label='Bayesian Ridge')\n",
    "plt.plot(test_split['x_teste'], pred_ransac, color = 'green',label='Ransac')\n",
    "plt.plot(test_split['x_teste'], pred_lasso, color = 'yellow',label='Lasso Lars')\n",
    "plt.plot(test_split['x_teste'], pred_lasso, color = 'pink',label='Lasso')\n",
    "plt.plot(test_split['x_teste'], pred_ridge, color = 'brown',label='Ridge')\n",
    "plt.plot(test_split['x_teste'], pred_reg, color = 'purple', label='Least Squares')\n",
    "\n",
    "plt.legend()\n",
    "plt.xlabel('PC1')\n",
    "plt.ylabel('Saida Esperada')\n",
    "plt.title('Comparando as Retas das Diversas Regressoes')\n",
    "plt.show()\n"
   ]
  },
  {
   "cell_type": "code",
   "execution_count": null,
   "metadata": {},
   "outputs": [],
   "source": []
  },
  {
   "cell_type": "code",
   "execution_count": null,
   "metadata": {},
   "outputs": [],
   "source": []
  },
  {
   "cell_type": "code",
   "execution_count": null,
   "metadata": {},
   "outputs": [],
   "source": []
  },
  {
   "cell_type": "code",
   "execution_count": null,
   "metadata": {},
   "outputs": [],
   "source": []
  }
 ],
 "metadata": {
  "kernelspec": {
   "display_name": "Python 3",
   "language": "python",
   "name": "python3"
  },
  "language_info": {
   "codemirror_mode": {
    "name": "ipython",
    "version": 3
   },
   "file_extension": ".py",
   "mimetype": "text/x-python",
   "name": "python",
   "nbconvert_exporter": "python",
   "pygments_lexer": "ipython3",
   "version": "3.7.3"
  }
 },
 "nbformat": 4,
 "nbformat_minor": 2
}
